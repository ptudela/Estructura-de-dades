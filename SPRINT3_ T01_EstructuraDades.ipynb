{
 "cells": [
  {
   "cell_type": "markdown",
   "id": "f57510a5",
   "metadata": {},
   "source": [
    "# S03 T01: Estructura de dades"
   ]
  },
  {
   "cell_type": "markdown",
   "id": "5aa4ed7f",
   "metadata": {},
   "source": [
    "## Exercici 1. Crea una llista que agrupi els mesos de l’any en trimestres (1T: Gener, Febrer i Març, 2T: Abril, Maig, Juny...), és a dir, una llista amb 4 llistes dins."
   ]
  },
  {
   "cell_type": "markdown",
   "id": "6a12937c",
   "metadata": {},
   "source": [
    "## Excercici 2. Crea un codi que et permeti accedir a:\n",
    "-\tEl segon mes del primer trimestre\n",
    "-\tEls mesos del primer trimestre\n",
    "-\tSetembre i octubre"
   ]
  },
  {
   "cell_type": "code",
   "execution_count": 1,
   "id": "1b8cb2d0",
   "metadata": {},
   "outputs": [
    {
     "name": "stdout",
     "output_type": "stream",
     "text": [
      "(['Gener', 'Febrer', 'Març'], ['Abril', 'Maig', 'Juny'], ['Juliol', 'Agost', 'Setembre'], ['Octubre', 'Novembre', 'Desembre'])\n",
      "Febrer\n",
      "['Gener', 'Febrer', 'Març']\n",
      "Gener Febrer Març\n",
      "Setembre Octubre\n"
     ]
    }
   ],
   "source": [
    "t1 = [\"Gener\",\"Febrer\", \"Març\"]\n",
    "t2 = [\"Abril\",\"Maig\", \"Juny\"]\n",
    "t3 = [\"Juliol\",\"Agost\", \"Setembre\"]\n",
    "t4 = [\"Octubre\",\"Novembre\", \"Desembre\"] \n",
    "mesost = t1,t2,t3,t4\n",
    "print(mesost)\n",
    "# El segon mes del primer trimestre\n",
    "print(mesost[0][1])\n",
    "# Els mesos del primer trimestre. La primera está como una lista, pero la segunda solo  meses.\n",
    "print(mesost[0]) \n",
    "print(mesost[0][0], mesost[0][1], mesost[0][2])\n",
    "# Setembre i octubre\n",
    "print(mesost[2][2], mesost[3][0]) "
   ]
  },
  {
   "cell_type": "markdown",
   "id": "7966a9ba",
   "metadata": {},
   "source": [
    "## Exercici 3. Crea una llista amb nombres desordenats i respon a les següents preguntes:\n",
    "\n",
    "- Quants números hi ha?\n",
    "- Quantes vegades apareix el número 3\n",
    "- Quantes vegades apareixen els nombres 3 i 4?\n",
    "- Quin és el número més gran?\n",
    "- Quins són els 3 números més petits?\n",
    "- Quin és el rang d’aquesta llista?"
   ]
  },
  {
   "cell_type": "code",
   "execution_count": 6,
   "id": "04f9bc8b",
   "metadata": {},
   "outputs": [
    {
     "name": "stdout",
     "output_type": "stream",
     "text": [
      "[3, 9, 7, 7, 4, 5, 3, 9, 5, 5, 3, 6, 1, 9, 5, 1, 1, 6, 6, 6]\n"
     ]
    }
   ],
   "source": [
    "# crear una llista amb nombres desordenats\n",
    "import random\n",
    "x = [random.randint(1, 9) for i in range(0, 20)]\n",
    "print(x)"
   ]
  },
  {
   "cell_type": "code",
   "execution_count": 7,
   "id": "f62604e8",
   "metadata": {},
   "outputs": [
    {
     "name": "stdout",
     "output_type": "stream",
     "text": [
      "20\n"
     ]
    }
   ],
   "source": [
    "# Quants números hi ha\n",
    "print(len(x))"
   ]
  },
  {
   "cell_type": "code",
   "execution_count": 8,
   "id": "3b0e6dc5",
   "metadata": {},
   "outputs": [
    {
     "name": "stdout",
     "output_type": "stream",
     "text": [
      "3\n",
      "1\n"
     ]
    }
   ],
   "source": [
    "# Quantes vegades apareixen els nombress 3 i 4?\n",
    "num_count = x.count(3)\n",
    "print(num_count)\n",
    "num_count2= x.count(4)\n",
    "print(num_count2)"
   ]
  },
  {
   "cell_type": "code",
   "execution_count": 9,
   "id": "d89c009e",
   "metadata": {},
   "outputs": [
    {
     "name": "stdout",
     "output_type": "stream",
     "text": [
      "9\n",
      "8\n"
     ]
    }
   ],
   "source": [
    "# Quin és el número més gran?\n",
    "print(max(x))\n",
    "\n",
    "#Quin és el rang d’aquesta llista?\n",
    "valmax = max(x)\n",
    "valmin = min(x)\n",
    "rango = valmax - valmin\n",
    "print(rango)"
   ]
  },
  {
   "cell_type": "code",
   "execution_count": 10,
   "id": "7c092854",
   "metadata": {},
   "outputs": [
    {
     "name": "stdout",
     "output_type": "stream",
     "text": [
      "[1, 1, 1, 3, 3, 3, 4, 5, 5, 5, 5, 6, 6, 6, 6, 7, 7, 9, 9, 9]\n",
      "[1, 1, 1]\n"
     ]
    }
   ],
   "source": [
    "# Quin són els 3 números més petits?\n",
    "x.sort()\n",
    "print(x)\n",
    "print(x[0:3])"
   ]
  },
  {
   "cell_type": "markdown",
   "id": "ba600071",
   "metadata": {},
   "source": [
    "## Exercici 4. Crea un diccionari de la següent forma i respon a les preguntes:\n",
    "\n",
    "compra = { \"Pomes\" : {\"Qty\": 5, \"€\": 0.42}, \"Peres\" : {\"Qty\": 3, \"€\": 0.66} }\n",
    "\n",
    "- Afegeix alguna fruita més\n",
    "- Quant han costat les peres en total?\n",
    "- Quantes fruites hem comprat en total?\n",
    "- Quina és la fruita més cara?"
   ]
  },
  {
   "cell_type": "code",
   "execution_count": 2,
   "id": "dbc80da8",
   "metadata": {},
   "outputs": [
    {
     "name": "stdout",
     "output_type": "stream",
     "text": [
      "{'Pomes': {'Qty': 5, '€': 0.42}, 'Peres': {'Qty': 3, '€': 0.66}, 'taronga': {'Qty': 4, '€': 0.56}}\n"
     ]
    }
   ],
   "source": [
    "compra = { \"Pomes\" : {\"Qty\": 5, \"€\": 0.42}, \"Peres\" : {\"Qty\": 3, \"€\": 0.66} }\n",
    "\n",
    "# afegeix alguna fruita més\n",
    "\n",
    "compra[\"taronga\"] = {\"Qty\": 4, \"€\": 0.56}\n",
    "print (compra)"
   ]
  },
  {
   "cell_type": "code",
   "execution_count": 3,
   "id": "0de7e892",
   "metadata": {},
   "outputs": [
    {
     "name": "stdout",
     "output_type": "stream",
     "text": [
      "12\n"
     ]
    }
   ],
   "source": [
    "# Quantes fruites hem comprat en total?\n",
    "sumValue = sum(i['Qty'] for i in compra.values() if i)\n",
    "print(sumValue)"
   ]
  },
  {
   "cell_type": "code",
   "execution_count": 4,
   "id": "65815b18",
   "metadata": {},
   "outputs": [
    {
     "name": "stdout",
     "output_type": "stream",
     "text": [
      "1.98\n"
     ]
    }
   ],
   "source": [
    "# Quant han costat les peres en total?\n",
    "q = compra[\"Peres\"][\"Qty\"]\n",
    "p = compra[\"Peres\"][\"€\"]\n",
    "r = p*q\n",
    "print(r)"
   ]
  },
  {
   "cell_type": "code",
   "execution_count": null,
   "id": "1b831275",
   "metadata": {},
   "outputs": [],
   "source": [
    "# Quina és la fruita més cara?\n"
   ]
  }
 ],
 "metadata": {
  "kernelspec": {
   "display_name": "Python 3",
   "language": "python",
   "name": "python3"
  },
  "language_info": {
   "codemirror_mode": {
    "name": "ipython",
    "version": 3
   },
   "file_extension": ".py",
   "mimetype": "text/x-python",
   "name": "python",
   "nbconvert_exporter": "python",
   "pygments_lexer": "ipython3",
   "version": "3.8.8"
  },
  "latex_envs": {
   "LaTeX_envs_menu_present": true,
   "autoclose": false,
   "autocomplete": true,
   "bibliofile": "biblio.bib",
   "cite_by": "apalike",
   "current_citInitial": 1,
   "eqLabelWithNumbers": true,
   "eqNumInitial": 1,
   "hotkeys": {
    "equation": "Ctrl-E",
    "itemize": "Ctrl-I"
   },
   "labels_anchors": false,
   "latex_user_defs": false,
   "report_style_numbering": false,
   "user_envs_cfg": false
  }
 },
 "nbformat": 4,
 "nbformat_minor": 5
}
